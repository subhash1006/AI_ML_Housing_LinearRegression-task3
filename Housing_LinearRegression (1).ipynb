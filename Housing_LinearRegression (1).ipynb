{
 "cells": [
  {
   "cell_type": "markdown",
   "id": "8c87e638",
   "metadata": {},
   "source": [
    "# Linear Regression Project - Housing Dataset\n",
    "*Author: Your Name*\n",
    "*Date: 2025*"
   ]
  },
  {
   "cell_type": "code",
   "execution_count": null,
   "id": "8a038a8e",
   "metadata": {},
   "outputs": [],
   "source": [
    "\n",
    "# 1. Import Libraries\n",
    "import pandas as pd\n",
    "import numpy as np\n",
    "import matplotlib.pyplot as plt\n",
    "\n",
    "from sklearn.model_selection import train_test_split\n",
    "from sklearn.linear_model import LinearRegression\n",
    "from sklearn.metrics import mean_absolute_error, mean_squared_error, r2_score\n"
   ]
  },
  {
   "cell_type": "code",
   "execution_count": null,
   "id": "e9953a6a",
   "metadata": {},
   "outputs": [],
   "source": [
    "\n",
    "# 2. Load Dataset\n",
    "df = pd.read_csv('Housing.csv')\n"
   ]
  },
  {
   "cell_type": "code",
   "execution_count": null,
   "id": "32c989c2",
   "metadata": {},
   "outputs": [],
   "source": [
    "\n",
    "# 3. Dataset Overview\n",
    "print(df.head())\n",
    "print(df.info())\n",
    "print(df.describe())\n"
   ]
  },
  {
   "cell_type": "code",
   "execution_count": null,
   "id": "4fb3f07d",
   "metadata": {},
   "outputs": [],
   "source": [
    "\n",
    "# 4. Check for Missing Values\n",
    "print(df.isnull().sum())\n"
   ]
  },
  {
   "cell_type": "code",
   "execution_count": null,
   "id": "cb17a1c0",
   "metadata": {},
   "outputs": [],
   "source": [
    "\n",
    "# 5. Encode Categorical Variables\n",
    "df = pd.get_dummies(df, drop_first=True)\n"
   ]
  },
  {
   "cell_type": "code",
   "execution_count": null,
   "id": "4ad92325",
   "metadata": {},
   "outputs": [],
   "source": [
    "\n",
    "# 6. Define Features and Target\n",
    "X = df.drop('price', axis=1)\n",
    "y = df['price']\n"
   ]
  },
  {
   "cell_type": "code",
   "execution_count": null,
   "id": "2ece368b",
   "metadata": {},
   "outputs": [],
   "source": [
    "\n",
    "# 7. Split Dataset into Train and Test Sets\n",
    "X_train, X_test, y_train, y_test = train_test_split(X, y, test_size=0.2, random_state=42)\n"
   ]
  },
  {
   "cell_type": "code",
   "execution_count": null,
   "id": "dd7922e1",
   "metadata": {},
   "outputs": [],
   "source": [
    "\n",
    "# 8. Train Linear Regression Model\n",
    "model = LinearRegression()\n",
    "model.fit(X_train, y_train)\n"
   ]
  },
  {
   "cell_type": "code",
   "execution_count": null,
   "id": "7f4e6bc4",
   "metadata": {},
   "outputs": [],
   "source": [
    "\n",
    "# 9. Predict on Test Set\n",
    "y_pred = model.predict(X_test)\n"
   ]
  },
  {
   "cell_type": "code",
   "execution_count": null,
   "id": "1168fd3e",
   "metadata": {},
   "outputs": [],
   "source": [
    "\n",
    "# 10. Evaluate Model\n",
    "mae = mean_absolute_error(y_test, y_pred)\n",
    "mse = mean_squared_error(y_test, y_pred)\n",
    "r2 = r2_score(y_test, y_pred)\n",
    "\n",
    "print(f\"Mean Absolute Error (MAE): {mae}\")\n",
    "print(f\"Mean Squared Error (MSE): {mse}\")\n",
    "print(f\"R2 Score: {r2}\")\n"
   ]
  },
  {
   "cell_type": "code",
   "execution_count": null,
   "id": "c981b0e1",
   "metadata": {},
   "outputs": [],
   "source": [
    "\n",
    "# 11. Plot Actual vs Predicted Prices\n",
    "plt.figure(figsize=(8,6))\n",
    "plt.scatter(y_test, y_pred, color='blue')\n",
    "plt.plot([y_test.min(), y_test.max()], [y_test.min(), y_test.max()], color='red', linewidth=2)\n",
    "plt.xlabel('Actual Prices')\n",
    "plt.ylabel('Predicted Prices')\n",
    "plt.title('Actual vs Predicted Prices')\n",
    "plt.show()\n"
   ]
  },
  {
   "cell_type": "code",
   "execution_count": null,
   "id": "a364dde5",
   "metadata": {},
   "outputs": [],
   "source": [
    "\n",
    "# 12. Display Coefficients\n",
    "coefficients = pd.DataFrame(model.coef_, X.columns, columns=['Coefficient'])\n",
    "print(coefficients)\n"
   ]
  }
 ],
 "metadata": {},
 "nbformat": 4,
 "nbformat_minor": 5
}
